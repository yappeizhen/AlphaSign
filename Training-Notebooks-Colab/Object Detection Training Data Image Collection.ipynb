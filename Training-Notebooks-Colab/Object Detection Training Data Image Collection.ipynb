{
 "cells": [
  {
   "cell_type": "markdown",
   "metadata": {},
   "source": [
    "# Read Me\n",
    "\n",
    "This notebook allows one to collect images using python opencv using your computer's webcam."
   ]
  },
  {
   "cell_type": "markdown",
   "metadata": {},
   "source": [
    "# 1. Import Dependencies"
   ]
  },
  {
   "cell_type": "code",
   "execution_count": 1,
   "metadata": {},
   "outputs": [
    {
     "name": "stdout",
     "output_type": "stream",
     "text": [
      "Requirement already satisfied: opencv-python in c:\\users\\zhili\\appdata\\roaming\\python\\python37\\site-packages (4.5.3.56)\n",
      "Requirement already satisfied: numpy>=1.14.5 in c:\\users\\zhili\\appdata\\roaming\\python\\python37\\site-packages (from opencv-python) (1.19.5)\n"
     ]
    }
   ],
   "source": [
    "!pip install opencv-python"
   ]
  },
  {
   "cell_type": "code",
   "execution_count": 1,
   "metadata": {},
   "outputs": [],
   "source": [
    "# Import opencv\n",
    "import cv2 \n",
    "\n",
    "# Import uuid\n",
    "import uuid\n",
    "\n",
    "# Import Operating System\n",
    "import os\n",
    "\n",
    "# Import time\n",
    "import time"
   ]
  },
  {
   "cell_type": "markdown",
   "metadata": {},
   "source": [
    "# 2. Define Labels for the images we are collecting"
   ]
  },
  {
   "cell_type": "code",
   "execution_count": 2,
   "metadata": {},
   "outputs": [
    {
     "name": "stdout",
     "output_type": "stream",
     "text": [
      "['A', 'B', 'C', 'D', 'E', 'F', 'G', 'H', 'I', 'K', 'L', 'M', 'N', 'O', 'P', 'Q', 'R', 'S', 'T', 'U', 'V', 'W', 'X', 'Y']\n"
     ]
    },
    {
     "data": {
      "text/plain": [
       "24"
      ]
     },
     "execution_count": 2,
     "metadata": {},
     "output_type": "execute_result"
    }
   ],
   "source": [
    "labels = ['A', 'B', 'C', 'D','E','F','G','H','I','K','L','M','N','O','P','Q','R','S','T','U','V','W','X','Y']\n",
    "number_imgs = 5\n",
    "print(labels)\n",
    "len(labels)"
   ]
  },
  {
   "cell_type": "markdown",
   "metadata": {},
   "source": [
    "# 3. Setup Folders to store the images collected"
   ]
  },
  {
   "cell_type": "code",
   "execution_count": 3,
   "metadata": {},
   "outputs": [],
   "source": [
    "IMAGES_PATH = os.path.join('Tensorflow', 'workspace', 'images', 'collectedimages')"
   ]
  },
  {
   "cell_type": "code",
   "execution_count": 4,
   "metadata": {},
   "outputs": [],
   "source": [
    "if not os.path.exists(IMAGES_PATH):\n",
    "    if os.name == 'posix':\n",
    "        !mkdir -p {IMAGES_PATH}\n",
    "    if os.name == 'nt':\n",
    "         !mkdir {IMAGES_PATH}\n",
    "for label in labels:\n",
    "    path = os.path.join(IMAGES_PATH, label)\n",
    "    if not os.path.exists(path):\n",
    "        !mkdir {path}"
   ]
  },
  {
   "cell_type": "markdown",
   "metadata": {},
   "source": [
    "# 4. Capture Images using webcam\n",
    "\n",
    "Press spacebar to capture an image using webcam\n",
    "\n",
    "Press ESC or q to quit the opencv window."
   ]
  },
  {
   "cell_type": "code",
   "execution_count": 27,
   "metadata": {},
   "outputs": [
    {
     "name": "stdout",
     "output_type": "stream",
     "text": [
      "Tensorflow\\workspace\\images\\collectedimages/Y/Y_100.jpg written!\n",
      "Tensorflow\\workspace\\images\\collectedimages/Y/Y_101.jpg written!\n",
      "Tensorflow\\workspace\\images\\collectedimages/Y/Y_102.jpg written!\n",
      "Tensorflow\\workspace\\images\\collectedimages/Y/Y_103.jpg written!\n",
      "Tensorflow\\workspace\\images\\collectedimages/Y/Y_104.jpg written!\n",
      "Tensorflow\\workspace\\images\\collectedimages/Y/Y_105.jpg written!\n",
      "Tensorflow\\workspace\\images\\collectedimages/Y/Y_106.jpg written!\n",
      "Tensorflow\\workspace\\images\\collectedimages/Y/Y_107.jpg written!\n",
      "Tensorflow\\workspace\\images\\collectedimages/Y/Y_108.jpg written!\n",
      "Tensorflow\\workspace\\images\\collectedimages/Y/Y_109.jpg written!\n",
      "\n",
      " 110\n",
      "Tensorflow\\workspace\\images\\collectedimages/Y/Y_110.jpg written!\n",
      "Tensorflow\\workspace\\images\\collectedimages/Y/Y_111.jpg written!\n",
      "Tensorflow\\workspace\\images\\collectedimages/Y/Y_112.jpg written!\n",
      "Tensorflow\\workspace\\images\\collectedimages/Y/Y_113.jpg written!\n",
      "Tensorflow\\workspace\\images\\collectedimages/Y/Y_114.jpg written!\n",
      "Tensorflow\\workspace\\images\\collectedimages/Y/Y_115.jpg written!\n",
      "Tensorflow\\workspace\\images\\collectedimages/Y/Y_116.jpg written!\n",
      "Tensorflow\\workspace\\images\\collectedimages/Y/Y_117.jpg written!\n",
      "Tensorflow\\workspace\\images\\collectedimages/Y/Y_118.jpg written!\n",
      "Tensorflow\\workspace\\images\\collectedimages/Y/Y_119.jpg written!\n",
      "\n",
      " 120\n",
      "Tensorflow\\workspace\\images\\collectedimages/Y/Y_120.jpg written!\n",
      "Tensorflow\\workspace\\images\\collectedimages/Y/Y_121.jpg written!\n",
      "Tensorflow\\workspace\\images\\collectedimages/Y/Y_122.jpg written!\n",
      "Tensorflow\\workspace\\images\\collectedimages/Y/Y_123.jpg written!\n",
      "Tensorflow\\workspace\\images\\collectedimages/Y/Y_124.jpg written!\n",
      "Tensorflow\\workspace\\images\\collectedimages/Y/Y_125.jpg written!\n",
      "Tensorflow\\workspace\\images\\collectedimages/Y/Y_126.jpg written!\n",
      "Tensorflow\\workspace\\images\\collectedimages/Y/Y_127.jpg written!\n",
      "Tensorflow\\workspace\\images\\collectedimages/Y/Y_128.jpg written!\n",
      "Tensorflow\\workspace\\images\\collectedimages/Y/Y_129.jpg written!\n",
      "\n",
      " 130\n",
      "Tensorflow\\workspace\\images\\collectedimages/Y/Y_130.jpg written!\n",
      "Tensorflow\\workspace\\images\\collectedimages/Y/Y_131.jpg written!\n",
      "Tensorflow\\workspace\\images\\collectedimages/Y/Y_132.jpg written!\n",
      "Tensorflow\\workspace\\images\\collectedimages/Y/Y_133.jpg written!\n",
      "Tensorflow\\workspace\\images\\collectedimages/Y/Y_134.jpg written!\n",
      "Tensorflow\\workspace\\images\\collectedimages/Y/Y_135.jpg written!\n",
      "Tensorflow\\workspace\\images\\collectedimages/Y/Y_136.jpg written!\n"
     ]
    }
   ],
   "source": [
    "# Capture Images 1 by 1\n",
    "import cv2\n",
    "\n",
    "#change class name to whatever that you are collecting, press space\n",
    "class_name = 'Y'\n",
    "\n",
    "directory = IMAGES_PATH + '/'+ class_name\n",
    "\n",
    "cam = cv2.VideoCapture(0)\n",
    "cv2.namedWindow(\"Capturing Class {}, press SPACE to capture, press ESC to exit\".format(class_name))\n",
    "img_counter = 100\n",
    "\n",
    "while True:\n",
    "    ret, frame = cam.read()\n",
    "    if not ret:\n",
    "        print(\"failed to grab frame\")\n",
    "        break\n",
    "    cv2.imshow(\"Capturing Class {}, press SPACE to capture, press ESC to exit\".format(class_name), frame)\n",
    "\n",
    "    k = cv2.waitKey(1)\n",
    "    if k%256 == 27:\n",
    "        # ESC pressed\n",
    "        print(\"Escape hit, closing...\")\n",
    "        break\n",
    "    elif k%256 == 32:\n",
    "        # SPACE BAR pressed\n",
    "        img_name = directory + \"/{}_{}.jpg\".format(class_name,img_counter)\n",
    "        cv2.imwrite(img_name, frame)\n",
    "        print(\"{} written!\".format(img_name))\n",
    "        img_counter += 1\n",
    "        if img_counter%10==0:\n",
    "            print('\\n',img_counter)\n",
    "    \n",
    "    \n",
    "    \n",
    "    if cv2.waitKey(10) & 0xFF == ord('q'):\n",
    "            break\n",
    "\n",
    "cam.release()\n",
    "\n",
    "#cv2.destroyAllWindows()"
   ]
  },
  {
   "cell_type": "code",
   "execution_count": 21,
   "metadata": {},
   "outputs": [
    {
     "name": "stdout",
     "output_type": "stream",
     "text": [
      "Collecting images for A\n",
      "Collecting images for B\n",
      "Collecting images for C\n",
      "Collecting images for D\n"
     ]
    }
   ],
   "source": [
    "# Capture Images in a for loop (not recommended as opencv may crash due to lagging code)\n",
    "\n",
    "for label in labels:\n",
    "    print('Collecting images for {}'.format(label))\n",
    "    #time.sleep(5)\n",
    "    \n",
    "    cap = cv2.VideoCapture(0)\n",
    "    \n",
    "    for imgnum in range(number_imgs):\n",
    "        #print('Collecting image {}'.format(imgnum))\n",
    "        ret, frame = cap.read()\n",
    "        imgname = os.path.join(IMAGES_PATH,label,label+'.'+'{}.jpg'.format(str(uuid.uuid1())))\n",
    "        cv2.imwrite(imgname, frame)\n",
    "        cv2.imshow('frame', frame)\n",
    "        #time.sleep(2)\n",
    "\n",
    "        if cv2.waitKey(10) & 0xFF == ord('q'):\n",
    "            break\n",
    "cap.release()\n",
    "cv2.destroyAllWindows()"
   ]
  }
 ],
 "metadata": {
  "kernelspec": {
   "display_name": "tfodj",
   "language": "python",
   "name": "tfodj"
  },
  "language_info": {
   "codemirror_mode": {
    "name": "ipython",
    "version": 3
   },
   "file_extension": ".py",
   "mimetype": "text/x-python",
   "name": "python",
   "nbconvert_exporter": "python",
   "pygments_lexer": "ipython3",
   "version": "3.8.10"
  },
  "varInspector": {
   "cols": {
    "lenName": 16,
    "lenType": 16,
    "lenVar": 40
   },
   "kernels_config": {
    "python": {
     "delete_cmd_postfix": "",
     "delete_cmd_prefix": "del ",
     "library": "var_list.py",
     "varRefreshCmd": "print(var_dic_list())"
    },
    "r": {
     "delete_cmd_postfix": ") ",
     "delete_cmd_prefix": "rm(",
     "library": "var_list.r",
     "varRefreshCmd": "cat(var_dic_list()) "
    }
   },
   "types_to_exclude": [
    "module",
    "function",
    "builtin_function_or_method",
    "instance",
    "_Feature"
   ],
   "window_display": false
  }
 },
 "nbformat": 4,
 "nbformat_minor": 2
}
