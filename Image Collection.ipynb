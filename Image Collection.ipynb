{
 "cells": [
  {
   "cell_type": "markdown",
   "metadata": {},
   "source": [
    "# 1. Import Dependencies"
   ]
  },
  {
   "cell_type": "code",
   "execution_count": 250,
   "metadata": {},
   "outputs": [],
   "source": [
    "#!pip install opencv-python"
   ]
  },
  {
   "cell_type": "code",
   "execution_count": 251,
   "metadata": {},
   "outputs": [],
   "source": [
    "# Import opencv\n",
    "import cv2 \n",
    "\n",
    "# Import uuid\n",
    "import uuid\n",
    "\n",
    "# Import Operating System\n",
    "import os\n",
    "\n",
    "# Import time\n",
    "import time"
   ]
  },
  {
   "cell_type": "markdown",
   "metadata": {},
   "source": [
    "# 2. Define Images to Collect"
   ]
  },
  {
   "cell_type": "code",
   "execution_count": 252,
   "metadata": {},
   "outputs": [],
   "source": [
    "labels = ['E', 'F', 'G', 'H', 'I', 'K', 'L', 'M', 'N', 'O', 'P', 'Q', 'R', 'S', 'T', 'U', 'V', 'W', 'X', 'Y']\n",
    "number_imgs = 5"
   ]
  },
  {
   "cell_type": "markdown",
   "metadata": {},
   "source": [
    "# 3. Setup Folders "
   ]
  },
  {
   "cell_type": "code",
   "execution_count": 253,
   "metadata": {},
   "outputs": [],
   "source": [
    "IMAGES_PATH = os.path.join('Tensorflow', 'workspace', 'images', 'collectedimages')"
   ]
  },
  {
   "cell_type": "code",
   "execution_count": 254,
   "metadata": {},
   "outputs": [],
   "source": [
    "if not os.path.exists(IMAGES_PATH):\n",
    "    if os.name == 'posix':\n",
    "        !mkdir -p {IMAGES_PATH}\n",
    "    if os.name == 'nt':\n",
    "         !mkdir {IMAGES_PATH}\n",
    "for label in labels:\n",
    "    path = os.path.join(IMAGES_PATH, label)\n",
    "    if not os.path.exists(path):\n",
    "        !mkdir {path}"
   ]
  },
  {
   "cell_type": "markdown",
   "metadata": {},
   "source": [
    "# 4. Capture Images"
   ]
  },
  {
   "cell_type": "code",
   "execution_count": 255,
   "metadata": {},
   "outputs": [
    {
     "name": "stdout",
     "output_type": "stream",
     "text": [
      "Tensorflow/workspace/images/collectedimages/Y/Y_1.jpg written!\n",
      "Tensorflow/workspace/images/collectedimages/Y/Y_2.jpg written!\n",
      "Tensorflow/workspace/images/collectedimages/Y/Y_3.jpg written!\n",
      "Tensorflow/workspace/images/collectedimages/Y/Y_4.jpg written!\n",
      "Tensorflow/workspace/images/collectedimages/Y/Y_5.jpg written!\n",
      "Tensorflow/workspace/images/collectedimages/Y/Y_6.jpg written!\n",
      "Tensorflow/workspace/images/collectedimages/Y/Y_7.jpg written!\n",
      "Tensorflow/workspace/images/collectedimages/Y/Y_8.jpg written!\n",
      "Tensorflow/workspace/images/collectedimages/Y/Y_9.jpg written!\n",
      "Tensorflow/workspace/images/collectedimages/Y/Y_10.jpg written!\n",
      "Tensorflow/workspace/images/collectedimages/Y/Y_11.jpg written!\n",
      "Tensorflow/workspace/images/collectedimages/Y/Y_12.jpg written!\n",
      "Tensorflow/workspace/images/collectedimages/Y/Y_13.jpg written!\n",
      "Tensorflow/workspace/images/collectedimages/Y/Y_14.jpg written!\n",
      "Tensorflow/workspace/images/collectedimages/Y/Y_15.jpg written!\n",
      "Tensorflow/workspace/images/collectedimages/Y/Y_16.jpg written!\n",
      "Tensorflow/workspace/images/collectedimages/Y/Y_17.jpg written!\n",
      "Tensorflow/workspace/images/collectedimages/Y/Y_18.jpg written!\n",
      "Tensorflow/workspace/images/collectedimages/Y/Y_19.jpg written!\n",
      "Tensorflow/workspace/images/collectedimages/Y/Y_20.jpg written!\n",
      "Tensorflow/workspace/images/collectedimages/Y/Y_21.jpg written!\n",
      "Tensorflow/workspace/images/collectedimages/Y/Y_22.jpg written!\n",
      "Tensorflow/workspace/images/collectedimages/Y/Y_23.jpg written!\n",
      "Tensorflow/workspace/images/collectedimages/Y/Y_24.jpg written!\n",
      "Tensorflow/workspace/images/collectedimages/Y/Y_25.jpg written!\n",
      "Tensorflow/workspace/images/collectedimages/Y/Y_26.jpg written!\n",
      "Tensorflow/workspace/images/collectedimages/Y/Y_27.jpg written!\n",
      "Tensorflow/workspace/images/collectedimages/Y/Y_28.jpg written!\n",
      "Tensorflow/workspace/images/collectedimages/Y/Y_29.jpg written!\n",
      "Tensorflow/workspace/images/collectedimages/Y/Y_30.jpg written!\n",
      "Escape hit, closing...\n"
     ]
    }
   ],
   "source": [
    "# Capture Images 1 by 1\n",
    "import cv2\n",
    "\n",
    "#change class name to whatever that you are collecting, press space\n",
    "class_name = 'A'\n",
    "\n",
    "directory = IMAGES_PATH + '/'+ class_name\n",
    "\n",
    "cam = cv2.VideoCapture(0)\n",
    "cv2.namedWindow(\"Capturing Class {}, press SPACE to capture, press ESC to exit\".format(class_name))\n",
    "img_counter = 1\n",
    "\n",
    "while True:\n",
    "    ret, frame = cam.read()\n",
    "    if not ret:\n",
    "        print(\"failed to grab frame\")\n",
    "        break\n",
    "    cv2.imshow(\"Capturing Class {}, press SPACE to capture, press ESC to exit\".format(class_name), frame)\n",
    "\n",
    "    k = cv2.waitKey(1)\n",
    "    if k%256 == 27:\n",
    "        # ESC pressed\n",
    "        print(\"Escape hit, closing...\")\n",
    "        break\n",
    "    elif k%256 == 32:\n",
    "        # SPACE BAR pressed\n",
    "        img_name = directory + \"/{}_{}.jpg\".format(class_name,img_counter)\n",
    "        cv2.imwrite(img_name, frame)\n",
    "        print(\"{} written!\".format(img_name))\n",
    "        img_counter += 1\n",
    "    \n",
    "    if cv2.waitKey(10) & 0xFF == ord('q'):\n",
    "            break\n",
    "\n",
    "cam.release()\n",
    "\n",
    "cv2.destroyAllWindows()"
   ]
  },
  {
   "cell_type": "markdown",
   "metadata": {},
   "source": [
    "# 5. Image Labelling"
   ]
  },
  {
   "cell_type": "code",
   "execution_count": 256,
   "metadata": {},
   "outputs": [],
   "source": [
    "#!pip install --upgrade pyqt5 lxml"
   ]
  },
  {
   "cell_type": "code",
   "execution_count": 257,
   "metadata": {},
   "outputs": [],
   "source": [
    "LABELIMG_PATH = os.path.join('Tensorflow', 'labelimg')"
   ]
  },
  {
   "cell_type": "code",
   "execution_count": 258,
   "metadata": {},
   "outputs": [],
   "source": [
    "if not os.path.exists(LABELIMG_PATH):\n",
    "    !mkdir {LABELIMG_PATH}\n",
    "    !git clone https://github.com/tzutalin/labelImg {LABELIMG_PATH}"
   ]
  },
  {
   "cell_type": "code",
   "execution_count": 259,
   "metadata": {},
   "outputs": [
    {
     "name": "stdout",
     "output_type": "stream",
     "text": [
      "make: *** No rule to make target `qt5py3'.  Stop.\n"
     ]
    }
   ],
   "source": [
    "if os.name == 'posix':\n",
    "    !make qt5py3\n",
    "if os.name =='nt':\n",
    "    !cd {LABELIMG_PATH} && pyrcc5 -o libs/resources.py resources.qrc"
   ]
  },
  {
   "cell_type": "code",
   "execution_count": 260,
   "metadata": {},
   "outputs": [
    {
     "name": "stdout",
     "output_type": "stream",
     "text": [
      "Traceback (most recent call last):\n",
      "  File \"labelImg.py\", line 33, in <module>\n",
      "    from libs.resources import *\n",
      "ModuleNotFoundError: No module named 'libs.resources'\n"
     ]
    }
   ],
   "source": [
    "!cd {LABELIMG_PATH} && python labelImg.py"
   ]
  },
  {
   "cell_type": "markdown",
   "metadata": {},
   "source": [
    "# 6. Move them into a Training and Testing Partition"
   ]
  },
  {
   "cell_type": "markdown",
   "metadata": {},
   "source": [
    "# OPTIONAL - 7. Compress them for Colab Training"
   ]
  },
  {
   "cell_type": "code",
   "execution_count": 261,
   "metadata": {},
   "outputs": [],
   "source": [
    "TRAIN_PATH = os.path.join('Tensorflow', 'workspace', 'images', 'train')\n",
    "TEST_PATH = os.path.join('Tensorflow', 'workspace', 'images', 'test')\n",
    "ARCHIVE_PATH = os.path.join('Tensorflow', 'workspace', 'images', 'archive.tar.gz')"
   ]
  },
  {
   "cell_type": "code",
   "execution_count": 262,
   "metadata": {},
   "outputs": [
    {
     "name": "stdout",
     "output_type": "stream",
     "text": [
      "tar: Tensorflow/workspace/images/train: Cannot stat: No such file or directory\n",
      "tar: Tensorflow/workspace/images/test: Cannot stat: No such file or directory\n",
      "tar: Error exit delayed from previous errors.\n"
     ]
    }
   ],
   "source": [
    "!tar -czf {ARCHIVE_PATH} {TRAIN_PATH} {TEST_PATH}"
   ]
  },
  {
   "cell_type": "code",
   "execution_count": null,
   "metadata": {},
   "outputs": [],
   "source": []
  }
 ],
 "metadata": {
  "interpreter": {
   "hash": "501cbe3e85297153d8bac388825f8a2b40e284b8e21a98e86ee10fd5adcc3e52"
  },
  "kernelspec": {
   "display_name": "Python 3.7.3 64-bit ('base': conda)",
   "name": "python3"
  },
  "language_info": {
   "codemirror_mode": {
    "name": "ipython",
    "version": 3
   },
   "file_extension": ".py",
   "mimetype": "text/x-python",
   "name": "python",
   "nbconvert_exporter": "python",
   "pygments_lexer": "ipython3",
   "version": "3.7.3"
  },
  "varInspector": {
   "cols": {
    "lenName": 16,
    "lenType": 16,
    "lenVar": 40
   },
   "kernels_config": {
    "python": {
     "delete_cmd_postfix": "",
     "delete_cmd_prefix": "del ",
     "library": "var_list.py",
     "varRefreshCmd": "print(var_dic_list())"
    },
    "r": {
     "delete_cmd_postfix": ") ",
     "delete_cmd_prefix": "rm(",
     "library": "var_list.r",
     "varRefreshCmd": "cat(var_dic_list()) "
    }
   },
   "types_to_exclude": [
    "module",
    "function",
    "builtin_function_or_method",
    "instance",
    "_Feature"
   ],
   "window_display": false
  }
 },
 "nbformat": 4,
 "nbformat_minor": 2
}
